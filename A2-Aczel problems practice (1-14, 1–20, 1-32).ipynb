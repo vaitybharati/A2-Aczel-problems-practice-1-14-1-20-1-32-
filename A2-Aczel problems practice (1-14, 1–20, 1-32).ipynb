{
 "cells": [
  {
   "cell_type": "markdown",
   "metadata": {},
   "source": [
    "# A2-Aczel problems practice (1-14, 1–20, 1-32)\n",
    "\n",
    "The following data are annualized returns on a group of 15 stocks.\n",
    "12.5, 13, 14.8, 11, 16.7, 9, 8.3, -1.2, 3.9, 15.5, 16.2, 18, 11.6, 10, 9.5"
   ]
  },
  {
   "cell_type": "code",
   "execution_count": 1,
   "metadata": {},
   "outputs": [],
   "source": [
    "import numpy as np\n",
    "import pandas as pd\n",
    "import matplotlib.pyplot as plt\n",
    "import seaborn as sns\n",
    "%matplotlib inline"
   ]
  },
  {
   "cell_type": "code",
   "execution_count": 2,
   "metadata": {},
   "outputs": [],
   "source": [
    "stocks_returns=[12.5, 13, 14.8, 11, 16.7, 9, 8.3, -1.2, 3.9, 15.5, 16.2, 18, 11.6, 10, 9.5]"
   ]
  },
  {
   "cell_type": "code",
   "execution_count": 5,
   "metadata": {
    "collapsed": true
   },
   "outputs": [
    {
     "data": {
      "text/plain": [
       "0     -1.2\n",
       "1      3.9\n",
       "2      8.3\n",
       "3      9.0\n",
       "4      9.5\n",
       "5     10.0\n",
       "6     11.0\n",
       "7     11.6\n",
       "8     12.5\n",
       "9     13.0\n",
       "10    14.8\n",
       "11    15.5\n",
       "12    16.2\n",
       "13    16.7\n",
       "14    18.0\n",
       "dtype: float64"
      ]
     },
     "execution_count": 5,
     "metadata": {},
     "output_type": "execute_result"
    }
   ],
   "source": [
    "sto_ret=pd.Series(sorted(stocks_returns))\n",
    "sto_ret"
   ]
  },
  {
   "cell_type": "markdown",
   "metadata": {},
   "source": [
    "#### 14. Find the median, the first and third quartiles, and the 55th and 85th percentiles for these data."
   ]
  },
  {
   "cell_type": "code",
   "execution_count": 7,
   "metadata": {},
   "outputs": [
    {
     "data": {
      "text/plain": [
       "11.6"
      ]
     },
     "execution_count": 7,
     "metadata": {},
     "output_type": "execute_result"
    }
   ],
   "source": [
    "# Median\n",
    "sto_ret.median()"
   ]
  },
  {
   "cell_type": "code",
   "execution_count": 10,
   "metadata": {},
   "outputs": [
    {
     "data": {
      "text/plain": [
       "9.0"
      ]
     },
     "execution_count": 10,
     "metadata": {},
     "output_type": "execute_result"
    }
   ],
   "source": [
    "# First Quartile\n",
    "n=sto_ret.shape[0]\n",
    "p=(n+1)*0.25 # for 25th percentile\n",
    "x=int(p)\n",
    "y=p-x\n",
    "sto_ret.iloc[x,]*y+sto_ret.iloc[(x-1),]*(1-y)"
   ]
  },
  {
   "cell_type": "code",
   "execution_count": 12,
   "metadata": {},
   "outputs": [
    {
     "data": {
      "text/plain": [
       "15.5"
      ]
     },
     "execution_count": 12,
     "metadata": {},
     "output_type": "execute_result"
    }
   ],
   "source": [
    "#Third Quartile\n",
    "n=sto_ret.shape[0]\n",
    "p=(n+1)*0.75 # for 75th percentile\n",
    "x=int(p)\n",
    "y=p-x\n",
    "sto_ret.iloc[x,]*y+sto_ret.iloc[(x-1),]*(1-y)"
   ]
  },
  {
   "cell_type": "code",
   "execution_count": 14,
   "metadata": {},
   "outputs": [
    {
     "data": {
      "text/plain": [
       "12.32"
      ]
     },
     "execution_count": 14,
     "metadata": {},
     "output_type": "execute_result"
    }
   ],
   "source": [
    "# 55th percentile\n",
    "n=sto_ret.shape[0]\n",
    "p=(n+1)*0.55\n",
    "x=int(p)\n",
    "y=p-x\n",
    "sto_ret.iloc[x,]*y+sto_ret.iloc[(x-1),]*(1-y)"
   ]
  },
  {
   "cell_type": "code",
   "execution_count": 16,
   "metadata": {},
   "outputs": [
    {
     "data": {
      "text/plain": [
       "16.5"
      ]
     },
     "execution_count": 16,
     "metadata": {},
     "output_type": "execute_result"
    }
   ],
   "source": [
    "# 85th percentile\n",
    "n=sto_ret.shape[0]\n",
    "p=(n+1)*0.85\n",
    "x=int(p)\n",
    "y=p-x\n",
    "sto_ret.iloc[x,]*y+sto_ret.iloc[(x-1),]*(1-y)"
   ]
  },
  {
   "cell_type": "markdown",
   "metadata": {},
   "source": [
    "#### 20. Find the mean, median, and mode(s) of the observations"
   ]
  },
  {
   "cell_type": "code",
   "execution_count": 17,
   "metadata": {},
   "outputs": [
    {
     "data": {
      "text/plain": [
       "11.253333333333332"
      ]
     },
     "execution_count": 17,
     "metadata": {},
     "output_type": "execute_result"
    }
   ],
   "source": [
    "# Mean\n",
    "sto_ret.mean()"
   ]
  },
  {
   "cell_type": "code",
   "execution_count": 18,
   "metadata": {},
   "outputs": [
    {
     "data": {
      "text/plain": [
       "11.6"
      ]
     },
     "execution_count": 18,
     "metadata": {},
     "output_type": "execute_result"
    }
   ],
   "source": [
    "# Median\n",
    "sto_ret.median()"
   ]
  },
  {
   "cell_type": "code",
   "execution_count": 19,
   "metadata": {},
   "outputs": [
    {
     "data": {
      "text/plain": [
       "0     -1.2\n",
       "1      3.9\n",
       "2      8.3\n",
       "3      9.0\n",
       "4      9.5\n",
       "5     10.0\n",
       "6     11.0\n",
       "7     11.6\n",
       "8     12.5\n",
       "9     13.0\n",
       "10    14.8\n",
       "11    15.5\n",
       "12    16.2\n",
       "13    16.7\n",
       "14    18.0\n",
       "dtype: float64"
      ]
     },
     "execution_count": 19,
     "metadata": {},
     "output_type": "execute_result"
    }
   ],
   "source": [
    "# Mode\n",
    "sto_ret.mode() # it listed down all numbers as they are repeating atleast once, actauly Mode is none"
   ]
  },
  {
   "cell_type": "markdown",
   "metadata": {},
   "source": [
    "#### 1–32. Find the range, the variance, and the standard deviation of the data set"
   ]
  },
  {
   "cell_type": "code",
   "execution_count": 20,
   "metadata": {},
   "outputs": [
    {
     "data": {
      "text/plain": [
       "count    15.000000\n",
       "mean     11.253333\n",
       "std       5.089607\n",
       "min      -1.200000\n",
       "25%       9.250000\n",
       "50%      11.600000\n",
       "75%      15.150000\n",
       "max      18.000000\n",
       "dtype: float64"
      ]
     },
     "execution_count": 20,
     "metadata": {},
     "output_type": "execute_result"
    }
   ],
   "source": [
    "sto_ret.describe()"
   ]
  },
  {
   "cell_type": "code",
   "execution_count": 21,
   "metadata": {},
   "outputs": [
    {
     "data": {
      "text/plain": [
       "19.2"
      ]
     },
     "execution_count": 21,
     "metadata": {},
     "output_type": "execute_result"
    }
   ],
   "source": [
    "# Range = Max -Min\n",
    "18-(-1.2)"
   ]
  },
  {
   "cell_type": "code",
   "execution_count": 23,
   "metadata": {},
   "outputs": [
    {
     "data": {
      "text/plain": [
       "25.904095238095234"
      ]
     },
     "execution_count": 23,
     "metadata": {},
     "output_type": "execute_result"
    }
   ],
   "source": [
    "# Variance\n",
    "sto_ret.var()"
   ]
  },
  {
   "cell_type": "code",
   "execution_count": 24,
   "metadata": {},
   "outputs": [
    {
     "data": {
      "text/plain": [
       "5.0896065897174445"
      ]
     },
     "execution_count": 24,
     "metadata": {},
     "output_type": "execute_result"
    }
   ],
   "source": [
    "# Standard Devaition\n",
    "sto_ret.std()"
   ]
  },
  {
   "cell_type": "code",
   "execution_count": 26,
   "metadata": {},
   "outputs": [
    {
     "data": {
      "text/plain": [
       "<matplotlib.axes._subplots.AxesSubplot at 0x1c641f1ee50>"
      ]
     },
     "execution_count": 26,
     "metadata": {},
     "output_type": "execute_result"
    },
    {
     "data": {
      "image/png": "[encoded data removed]",
      "text/plain": [
       "<Figure size 432x288 with 1 Axes>"
      ]
     },
     "metadata": {
      "needs_background": "light"
     },
     "output_type": "display_data"
    }
   ],
   "source": [
    "sto_ret.hist()"
   ]
  },
  {
   "cell_type": "code",
   "execution_count": null,
   "metadata": {},
   "outputs": [],
   "source": []
  }
 ],
 "metadata": {
  "kernelspec": {
   "display_name": "Python 3",
   "language": "python",
   "name": "python3"
  },
  "language_info": {
   "codemirror_mode": {
    "name": "ipython",
    "version": 3
   },
   "file_extension": ".py",
   "mimetype": "text/x-python",
   "name": "python",
   "nbconvert_exporter": "python",
   "pygments_lexer": "ipython3",
   "version": "3.8.3"
  }
 },
 "nbformat": 4,
 "nbformat_minor": 4
}
